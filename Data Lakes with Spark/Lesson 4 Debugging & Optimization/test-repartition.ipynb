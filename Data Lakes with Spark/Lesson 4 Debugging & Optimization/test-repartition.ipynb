{
 "cells": [
  {
   "cell_type": "code",
   "execution_count": 1,
   "metadata": {},
   "outputs": [],
   "source": [
    "from pyspark.sql import SparkSession\n",
    "\n",
    "def repartition():\n",
    "    spark = SparkSession.builder.appName(\"Repartition Example\").getOrCreate()\n",
    "\n",
    "    # TODO Path to your file\n",
    "    df = spark.read.format('csv').option('header',True).load('/Users/jamie/parking_violation.csv')\n",
    "\n",
    "\n",
    "    #TODO explore & do some transformations and actions and see how Spark works,\n",
    "    # especially on the executor tab\n",
    "    # for example.. write is an action\n",
    "    # fill it in with your desired path and look at the executor tab\n",
    "#     df.write.partitionBy('year').csv(\"test-executors2.csv\")\n",
    "    \n",
    "    # Now, try doing repartition\n",
    "    # TODO Add the number of your workers\n",
    "    # Write another path, and take a look at Executor tab. What changed?\n",
    "#     df.repartition(4).write.csv('test-executors-repartition1.csv')\n",
    "    "
   ]
  },
  {
   "cell_type": "code",
   "execution_count": 58,
   "metadata": {},
   "outputs": [],
   "source": [
    "spark = SparkSession.builder.appName('trial repartition').getOrCreate()\n",
    "test_df = spark.read.format('csv').option('header', True).load('/Users/jamie/parking_violation.csv')"
   ]
  },
  {
   "cell_type": "code",
   "execution_count": 84,
   "metadata": {},
   "outputs": [
    {
     "data": {
      "text/plain": [
       "DataFrame[Summons_Number: string, Plate_ID: string, Registration_State: string, Plate_Type: string, Issue_Date: string, Violation_Code: string, Vehicle_Body_Type: string, Vehicle_Make: string, Issuing_Agency: string, Street_Code1: string, Street_Code2: string, Street_Code3: string, Vehicle_Expiration_Date: string, Violation_Location: string, Violation_Precinct: string, Issuer_Precinct: string, Issuer_Code: string, Issuer_Command: string, Issuer_Squad: string, Violation_Time: string, Time_First_Observed: string, Violation_County: string, Violation_In_Front_Of_Or_Opposite: string, House_Number: string, Street_Name: string, Intersecting_Street: string, Date_First_Observed: string, Law_Section: string, Sub_Division: string, Violation_Legal_Code: string, Days_Parking_In_Effect____: string, From_Hours_In_Effect: string, To_Hours_In_Effect: string, Vehicle_Color: string, Unregistered_Vehicle?: string, Vehicle_Year: string, Meter_Number: string, Feet_From_Curb: string, Violation_Post_Code: string, Violation_Description: string, No_Standing_or_Stopping_Violation: string, Hydrant_Violation: string, Double_Parking_Violation: string, Latitude: string, Longitude: string, Community_Board: string, Community_Council_: string, Census_Tract: string, BIN: string, BBL: string, NTA: string, year: string, month: string]"
      ]
     },
     "execution_count": 84,
     "metadata": {},
     "output_type": "execute_result"
    }
   ],
   "source": [
    "test_df.repartition(4)"
   ]
  },
  {
   "cell_type": "code",
   "execution_count": 80,
   "metadata": {},
   "outputs": [
    {
     "data": {
      "text/plain": [
       "['Summons_Number',\n",
       " 'Plate_ID',\n",
       " 'Registration_State',\n",
       " 'Plate_Type',\n",
       " 'Issue_Date',\n",
       " 'Violation_Code',\n",
       " 'Vehicle_Body_Type',\n",
       " 'Vehicle_Make',\n",
       " 'Issuing_Agency',\n",
       " 'Street_Code1',\n",
       " 'Street_Code2',\n",
       " 'Street_Code3',\n",
       " 'Vehicle_Expiration_Date',\n",
       " 'Violation_Location',\n",
       " 'Violation_Precinct',\n",
       " 'Issuer_Precinct',\n",
       " 'Issuer_Code',\n",
       " 'Issuer_Command',\n",
       " 'Issuer_Squad',\n",
       " 'Violation_Time',\n",
       " 'Time_First_Observed',\n",
       " 'Violation_County',\n",
       " 'Violation_In_Front_Of_Or_Opposite',\n",
       " 'House_Number',\n",
       " 'Street_Name',\n",
       " 'Intersecting_Street',\n",
       " 'Date_First_Observed',\n",
       " 'Law_Section',\n",
       " 'Sub_Division',\n",
       " 'Violation_Legal_Code',\n",
       " 'Days_Parking_In_Effect____',\n",
       " 'From_Hours_In_Effect',\n",
       " 'To_Hours_In_Effect',\n",
       " 'Vehicle_Color',\n",
       " 'Unregistered_Vehicle?',\n",
       " 'Vehicle_Year',\n",
       " 'Meter_Number',\n",
       " 'Feet_From_Curb',\n",
       " 'Violation_Post_Code',\n",
       " 'Violation_Description',\n",
       " 'No_Standing_or_Stopping_Violation',\n",
       " 'Hydrant_Violation',\n",
       " 'Double_Parking_Violation',\n",
       " 'Latitude',\n",
       " 'Longitude',\n",
       " 'Community_Board',\n",
       " 'Community_Council_',\n",
       " 'Census_Tract',\n",
       " 'BIN',\n",
       " 'BBL',\n",
       " 'NTA',\n",
       " 'year',\n",
       " 'month']"
      ]
     },
     "execution_count": 80,
     "metadata": {},
     "output_type": "execute_result"
    }
   ],
   "source": [
    "test_df.columns"
   ]
  },
  {
   "cell_type": "code",
   "execution_count": 86,
   "metadata": {},
   "outputs": [
    {
     "name": "stdout",
     "output_type": "stream",
     "text": [
      "+------------------+\n",
      "|Registration_State|\n",
      "+------------------+\n",
      "|                AZ|\n",
      "|                SC|\n",
      "|                NS|\n",
      "|                LA|\n",
      "|                MN|\n",
      "|                NJ|\n",
      "|                MX|\n",
      "|                DC|\n",
      "|                OR|\n",
      "|                99|\n",
      "|                NT|\n",
      "|                VA|\n",
      "|                RI|\n",
      "|                KY|\n",
      "|                WY|\n",
      "|                BC|\n",
      "|                NH|\n",
      "|                MI|\n",
      "|                NV|\n",
      "|                GV|\n",
      "+------------------+\n",
      "only showing top 20 rows\n",
      "\n"
     ]
    }
   ],
   "source": [
    "test_df.select('Registration_State').distinct().show()"
   ]
  },
  {
   "cell_type": "code",
   "execution_count": 47,
   "metadata": {},
   "outputs": [
    {
     "name": "stderr",
     "output_type": "stream",
     "text": [
      "/Users/jamie/Library/Python/3.8/lib/python/site-packages/IPython/core/interactiveshell.py:3146: DtypeWarning: Columns (19,30,39,41,42,43) have mixed types.Specify dtype option on import or set low_memory=False.\n",
      "  has_raised = await self.run_ast_nodes(code_ast.body, cell_name,\n"
     ]
    }
   ],
   "source": []
  },
  {
   "cell_type": "code",
   "execution_count": 49,
   "metadata": {},
   "outputs": [
    {
     "data": {
      "text/plain": [
       "Index(['Unnamed: 0', 'Summons_Number', 'Plate_ID', 'Registration_State',\n",
       "       'Plate_Type', 'Issue_Date', 'Violation_Code', 'Vehicle_Body_Type',\n",
       "       'Vehicle_Make', 'Issuing_Agency', 'Street_Code1', 'Street_Code2',\n",
       "       'Street_Code3', 'Vehicle_Expiration_Date', 'Violation_Location',\n",
       "       'Violation_Precinct', 'Issuer_Precinct', 'Issuer_Code',\n",
       "       'Issuer_Command', 'Issuer_Squad', 'Violation_Time',\n",
       "       'Time_First_Observed', 'Violation_County',\n",
       "       'Violation_In_Front_Of_Or_Opposite', 'House_Number', 'Street_Name',\n",
       "       'Intersecting_Street', 'Date_First_Observed', 'Law_Section',\n",
       "       'Sub_Division', 'Violation_Legal_Code', 'Days_Parking_In_Effect____',\n",
       "       'From_Hours_In_Effect', 'To_Hours_In_Effect', 'Vehicle_Color',\n",
       "       'Unregistered_Vehicle?', 'Vehicle_Year', 'Meter_Number',\n",
       "       'Feet_From_Curb', 'Violation_Post_Code', 'Violation_Description',\n",
       "       'No_Standing_or_Stopping_Violation', 'Hydrant_Violation',\n",
       "       'Double_Parking_Violation', 'Latitude', 'Longitude', 'Community_Board',\n",
       "       'Community_Council_', 'Census_Tract', 'BIN', 'BBL', 'NTA', 'year',\n",
       "       'month'],\n",
       "      dtype='object')"
      ]
     },
     "execution_count": 49,
     "metadata": {},
     "output_type": "execute_result"
    }
   ],
   "source": [
    "pd_df.columns"
   ]
  },
  {
   "cell_type": "code",
   "execution_count": null,
   "metadata": {},
   "outputs": [],
   "source": []
  }
 ],
 "metadata": {
  "kernelspec": {
   "display_name": "Python 3",
   "language": "python",
   "name": "python3"
  },
  "language_info": {
   "codemirror_mode": {
    "name": "ipython",
    "version": 3
   },
   "file_extension": ".py",
   "mimetype": "text/x-python",
   "name": "python",
   "nbconvert_exporter": "python",
   "pygments_lexer": "ipython3",
   "version": "3.8.6"
  }
 },
 "nbformat": 4,
 "nbformat_minor": 4
}

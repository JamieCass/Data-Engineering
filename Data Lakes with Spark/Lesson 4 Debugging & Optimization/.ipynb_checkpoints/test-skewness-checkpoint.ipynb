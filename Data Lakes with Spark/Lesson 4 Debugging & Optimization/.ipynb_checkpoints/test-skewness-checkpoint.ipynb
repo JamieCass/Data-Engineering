{
 "cells": [
  {
   "cell_type": "code",
   "execution_count": 10,
   "metadata": {},
   "outputs": [
    {
     "data": {
      "text/html": [
       "<style>.container { width:100% !important; }</style>"
      ],
      "text/plain": [
       "<IPython.core.display.HTML object>"
      ]
     },
     "metadata": {},
     "output_type": "display_data"
    },
    {
     "data": {
      "text/html": [
       "<style>.output_result { max-width:100% !important; }</style>"
      ],
      "text/plain": [
       "<IPython.core.display.HTML object>"
      ]
     },
     "metadata": {},
     "output_type": "display_data"
    },
    {
     "data": {
      "text/html": [
       "<style>.prompt { display:none !important; }</style>"
      ],
      "text/plain": [
       "<IPython.core.display.HTML object>"
      ]
     },
     "metadata": {},
     "output_type": "display_data"
    }
   ],
   "source": []
  },
  {
   "cell_type": "code",
   "execution_count": 1,
   "metadata": {},
   "outputs": [],
   "source": [
    "import pandas as pd"
   ]
  },
  {
   "cell_type": "code",
   "execution_count": 2,
   "metadata": {},
   "outputs": [
    {
     "name": "stderr",
     "output_type": "stream",
     "text": [
      "/Users/jamie/Library/Python/3.8/lib/python/site-packages/IPython/core/interactiveshell.py:3146: DtypeWarning: Columns (19,30,39,41,42,43) have mixed types.Specify dtype option on import or set low_memory=False.\n",
      "  has_raised = await self.run_ast_nodes(code_ast.body, cell_name,\n"
     ]
    },
    {
     "data": {
      "text/plain": [
       "Index(['Unnamed: 0', 'Summons_Number', 'Plate_ID', 'Registration_State',\n",
       "       'Plate_Type', 'Issue_Date', 'Violation_Code', 'Vehicle_Body_Type',\n",
       "       'Vehicle_Make', 'Issuing_Agency', 'Street_Code1', 'Street_Code2',\n",
       "       'Street_Code3', 'Vehicle_Expiration_Date', 'Violation_Location',\n",
       "       'Violation_Precinct', 'Issuer_Precinct', 'Issuer_Code',\n",
       "       'Issuer_Command', 'Issuer_Squad', 'Violation_Time',\n",
       "       'Time_First_Observed', 'Violation_County',\n",
       "       'Violation_In_Front_Of_Or_Opposite', 'House_Number', 'Street_Name',\n",
       "       'Intersecting_Street', 'Date_First_Observed', 'Law_Section',\n",
       "       'Sub_Division', 'Violation_Legal_Code', 'Days_Parking_In_Effect____',\n",
       "       'From_Hours_In_Effect', 'To_Hours_In_Effect', 'Vehicle_Color',\n",
       "       'Unregistered_Vehicle?', 'Vehicle_Year', 'Meter_Number',\n",
       "       'Feet_From_Curb', 'Violation_Post_Code', 'Violation_Description',\n",
       "       'No_Standing_or_Stopping_Violation', 'Hydrant_Violation',\n",
       "       'Double_Parking_Violation', 'Latitude', 'Longitude', 'Community_Board',\n",
       "       'Community_Council_', 'Census_Tract', 'BIN', 'BBL', 'NTA', 'year',\n",
       "       'month'],\n",
       "      dtype='object')"
      ]
     },
     "execution_count": 2,
     "metadata": {},
     "output_type": "execute_result"
    }
   ],
   "source": [
    "df = pd.read_csv('/Users/jamie/parking_violation.csv') # Reading the csv file\n",
    "df.columns # get all the column names "
   ]
  },
  {
   "cell_type": "code",
   "execution_count": 3,
   "metadata": {},
   "outputs": [
    {
     "data": {
      "text/plain": [
       "NY    9193289\n",
       "NJ    1080414\n",
       "PA     298877\n",
       "CT     160361\n",
       "FL     148868\n",
       "       ...   \n",
       "SK         26\n",
       "NF         18\n",
       "FO         10\n",
       "YT          6\n",
       "NT          6\n",
       "Name: Registration_State, Length: 69, dtype: int64"
      ]
     },
     "execution_count": 3,
     "metadata": {},
     "output_type": "execute_result"
    }
   ],
   "source": [
    "df.year.value_counts() # See the count by the year, we can see its heavily concentrated on 2014-2015"
   ]
  },
  {
   "cell_type": "code",
   "execution_count": 7,
   "metadata": {},
   "outputs": [
    {
     "data": {
      "text/plain": [
       "1     1392992\n",
       "6     1276592\n",
       "5     1040148\n",
       "9     1029583\n",
       "7      969938\n",
       "10     966456\n",
       "3      965119\n",
       "4      951716\n",
       "8      911641\n",
       "11     798897\n",
       "12     774287\n",
       "2      731864\n",
       "Name: month, dtype: int64"
      ]
     },
     "execution_count": 7,
     "metadata": {},
     "output_type": "execute_result"
    }
   ],
   "source": [
    "df.month.value_counts() # by month"
   ]
  },
  {
   "cell_type": "code",
   "execution_count": 12,
   "metadata": {},
   "outputs": [
    {
     "data": {
      "text/plain": [
       "NY    9193289\n",
       "NJ    1080414\n",
       "PA     298877\n",
       "CT     160361\n",
       "FL     148868\n",
       "       ...   \n",
       "SK         26\n",
       "NF         18\n",
       "FO         10\n",
       "YT          6\n",
       "NT          6\n",
       "Name: Registration_State, Length: 69, dtype: int64"
      ]
     },
     "execution_count": 12,
     "metadata": {},
     "output_type": "execute_result"
    }
   ],
   "source": [
    "df.Registration_State.value_counts()"
   ]
  },
  {
   "cell_type": "code",
   "execution_count": null,
   "metadata": {},
   "outputs": [],
   "source": []
  }
 ],
 "metadata": {
  "celltoolbar": "Raw Cell Format",
  "kernelspec": {
   "display_name": "Python 3",
   "language": "python",
   "name": "python3"
  },
  "language_info": {
   "codemirror_mode": {
    "name": "ipython",
    "version": 3
   },
   "file_extension": ".py",
   "mimetype": "text/x-python",
   "name": "python",
   "nbconvert_exporter": "python",
   "pygments_lexer": "ipython3",
   "version": "3.8.6"
  }
 },
 "nbformat": 4,
 "nbformat_minor": 4
}
